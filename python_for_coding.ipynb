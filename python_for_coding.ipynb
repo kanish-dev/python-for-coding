{
  "nbformat": 4,
  "nbformat_minor": 0,
  "metadata": {
    "colab": {
      "provenance": [],
      "authorship_tag": "ABX9TyM7Xc+D6oF2JIPSXeTnI3OL",
      "include_colab_link": true
    },
    "kernelspec": {
      "name": "python3",
      "display_name": "Python 3"
    },
    "language_info": {
      "name": "python"
    }
  },
  "cells": [
    {
      "cell_type": "markdown",
      "metadata": {
        "id": "view-in-github",
        "colab_type": "text"
      },
      "source": [
        "<a href=\"https://colab.research.google.com/github/kanish-dev/python-for-coding/blob/main/python_for_coding.ipynb\" target=\"_parent\"><img src=\"https://colab.research.google.com/assets/colab-badge.svg\" alt=\"Open In Colab\"/></a>"
      ]
    },
    {
      "cell_type": "markdown",
      "source": [
        "### ***VARIABLES***"
      ],
      "metadata": {
        "id": "EIciJWf51T1Y"
      }
    },
    {
      "cell_type": "code",
      "execution_count": null,
      "metadata": {
        "colab": {
          "base_uri": "https://localhost:8080/"
        },
        "id": "-C4QeV1nxqe8",
        "outputId": "da2e35cf-1ca4-43ef-b782-a70585a4cdbb"
      },
      "outputs": [
        {
          "output_type": "stream",
          "name": "stdout",
          "text": [
            "n =  0\n",
            "n = abc\n",
            "m = abc , n = 0.125 , z = False\n",
            "n = None\n"
          ]
        }
      ],
      "source": [
        "# Variables are dynamically (because the dtypes are determined at the run time)\n",
        "n = 0\n",
        "print(\"n = \",n)\n",
        " \n",
        "n = 'abc'\n",
        "print('n =',n) \n",
        "\n",
        "# multiple assignment\n",
        "n,m,z = 0.125,\"abc\", False\n",
        "print('m =',m,', n =',n,', z =',z)\n",
        "\n",
        "# Increament\n",
        "n = n+1 # good\n",
        "n +=1   # good\n",
        "n++     # bad (throws the syntaxError)\n",
        "\n",
        "#  None is null (absence of value)\n",
        "n = 4\n",
        "n = None\n",
        "print('n =',n)\n",
        "\n",
        "\n"
      ]
    },
    {
      "cell_type": "markdown",
      "source": [
        "### ***if-Statements***"
      ],
      "metadata": {
        "id": "OXeVFB7n1jST"
      }
    },
    {
      "cell_type": "code",
      "source": [
        "# If statements don't need parentheses \n",
        "# or curly braces.\n",
        "n = 1\n",
        "if n > 2:\n",
        "  n -= 1\n",
        "elif n == 2:\n",
        "  n *= 2\n",
        "else:\n",
        "  n +=2\n",
        "print(n)\n",
        "\n",
        "# Parenthesis needed for multiline conditions.\n",
        "# and = &&\n",
        "# or = ||\n",
        "\n",
        "if ((n>2 and\n",
        "     n != m) or m == n):\n",
        "  n +=1\n",
        "\n",
        "print(n)\n"
      ],
      "metadata": {
        "colab": {
          "base_uri": "https://localhost:8080/"
        },
        "id": "CSczKmlX1ho4",
        "outputId": "9029a112-4667-4b75-aceb-4dae18098fcd"
      },
      "execution_count": null,
      "outputs": [
        {
          "output_type": "stream",
          "name": "stdout",
          "text": [
            "3\n",
            "4\n"
          ]
        }
      ]
    },
    {
      "cell_type": "markdown",
      "source": [
        "### ***LOOPS***"
      ],
      "metadata": {
        "id": "eeyHJD_04A_c"
      }
    },
    {
      "cell_type": "code",
      "source": [
        "# while loop\n",
        "n = 0\n",
        "while (n<5):\n",
        "  print(n,end=',  ')\n",
        "  n +=1\n",
        "print('\\n')\n",
        "\n",
        "# for loop\n",
        "# looping from i = 0 to i = 4\n",
        "for i in range(5):\n",
        "  print(i,end=', ')\n",
        "print('\\n')\n",
        "\n",
        "# looping from i = 2 to i = 5\n",
        "for i in range(2,6):\n",
        "  print(i,end=', ')\n",
        "print('\\n')\n",
        "\n",
        "# looping from i = 5 to i = 2   reverse looping  here -1 indicates the step size\n",
        "  for i in range(5,1,-1):\n",
        "  print(i,end=', ')\n",
        "  \n",
        "\n"
      ],
      "metadata": {
        "colab": {
          "base_uri": "https://localhost:8080/"
        },
        "id": "4Bunpe1g4MxW",
        "outputId": "3eefc132-4877-401b-898b-5aa935edbd7f"
      },
      "execution_count": null,
      "outputs": [
        {
          "output_type": "stream",
          "name": "stdout",
          "text": [
            "0,  1,  2,  3,  4,  \n",
            "\n",
            "0, 1, 2, 3, 4, \n",
            "\n",
            "2, 3, 4, 5, \n",
            "\n",
            "5, 4, 3, 2, "
          ]
        }
      ]
    },
    {
      "cell_type": "markdown",
      "source": [
        "### ***MATH***"
      ],
      "metadata": {
        "id": "zH22QbZx7e9X"
      }
    },
    {
      "cell_type": "code",
      "source": [
        "# Division is decimial by default\n",
        "print(5/2)\n",
        "\n",
        "# Double slash rounds down\n",
        "print(5//2)\n",
        "\n",
        "# CAREFUl: most of the languages round towards 0 by default \n",
        "# So negative numbers will be rounded down\n",
        "print(-3//2) # which is wrong(-2)\n",
        "\n",
        "# A workaround rounding towards zero\n",
        "# is to use decimal division and then convert to int\n",
        "print(int(-3/2))\n",
        "\n",
        "# modding is simillar to most of the languages\n",
        "print(10%3)\n",
        "\n",
        "# Except for negative values\n",
        "print(-10%3) # which is wrong(2)\n",
        "\n",
        "# to be consistent with other languages modulo\n",
        "import math\n",
        "from multiprocessing import heap\n",
        "print(math.fmod(-10,3))\n",
        "\n",
        "# more math\n",
        "print(math.floor(3/2))\n",
        "print(math.ceil(3/2))\n",
        "print(math.sqrt(2))\n",
        "print(math.pow(2,3))\n",
        "\n",
        "# Min / Max Int\n",
        "min = float('-inf')\n",
        "max = float('inf')\n",
        "print(min,max)\n",
        "\n",
        "# Python numbers are so infinite so they never overflow\n",
        "print(math.pow(2,200))\n",
        "\n",
        "# but still less than infinity\n",
        "print(math.pow(2,200)< max)"
      ],
      "metadata": {
        "colab": {
          "base_uri": "https://localhost:8080/"
        },
        "id": "yBAzXJO77d3z",
        "outputId": "36b309c5-a347-467a-a586-ef51ef0aeaab"
      },
      "execution_count": null,
      "outputs": [
        {
          "output_type": "stream",
          "name": "stdout",
          "text": [
            "2.5\n",
            "2\n",
            "-2\n",
            "-1\n",
            "1\n",
            "2\n",
            "-1.0\n",
            "1\n",
            "2\n",
            "1.4142135623730951\n",
            "8.0\n",
            "-inf inf\n",
            "1.6069380442589903e+60\n",
            "True\n"
          ]
        }
      ]
    },
    {
      "cell_type": "markdown",
      "source": [
        "### ***ARRAYS***"
      ],
      "metadata": {
        "id": "YCyfYlQUBLAZ"
      }
    },
    {
      "cell_type": "code",
      "source": [
        "# Arrays (commonly called as lists in python)\n",
        "arr = [1,2,3]\n",
        "print(arr)\n",
        "\n",
        "# can be used as a stack\n",
        "arr.append(4)\n",
        "arr.append(5)\n",
        "print(arr)\n",
        "\n",
        "arr.pop()\n",
        "print(arr)\n",
        "\n",
        "arr.insert(1,7)   # O(n)\n",
        "print(arr)\n",
        "\n",
        "\n",
        "arr[0] = 0        # O(1)\n",
        "arr[1] = 7\n",
        "print(arr)\n",
        "\n",
        "# initalize the size n with default value of 1\n",
        "n = 5\n",
        "arr = [1] * n\n",
        "print(arr)\n",
        "print(len(arr))\n",
        "\n",
        "#CAREFUL: -1 is not out of bounds, it's the last value\n",
        "arr = [1,2,3]\n",
        "print(arr[-1])\n",
        "\n",
        "# Indexing -2 is the second last value, etc\n",
        "print(arr[-2])\n",
        "\n",
        "# Sublisting (aka slicing)\n",
        "arr = [1,2,3,4]\n",
        "print(arr[1:3]) # start  the indexing from 0 go till (n-1)\n",
        "\n",
        "# Simillar to for-loop ranges, last index id non-inclusive\n",
        "print(arr[0:4])\n",
        "\n",
        "# but no out of bounds error \n",
        "print(arr[0:10])\n",
        "\n",
        "# Unpacking\n",
        "a,b,c = [1,2,3]\n",
        "print(a,b,c)\n",
        "\n",
        "# Be careful though, this throw the ValueError if LHS != RHS\n",
        "a,b = [1,2,3] \n",
        "\n",
        "# Looping through the arrays \n",
        "nums = [1,2,3]\n",
        "\n",
        "# Using the index\n",
        "for i in range(len(nums)):\n",
        "  print(nums[i],end=' ')\n",
        "print('\\n')\n",
        "\n",
        "# Without index\n",
        "for n in nums:\n",
        "  print(n,end=' ')\n",
        "print('\\n')\n",
        "\n",
        "# With value and index\n",
        "for i,n in enumerate(nums):     # this combines with the index\n",
        "  print(i,n)\n",
        "print('\\n')\n",
        "\n",
        "# Loop through multiple arrays simultaneously with unpacking\n",
        "nums1=[1,2,3]\n",
        "nums2=[3,5,6]\n",
        "\n",
        "for n1,n2 in zip(nums1,nums2):  # this combines one with another list\n",
        "  print(n1,n2)\n",
        "print('\\n')\n",
        "\n",
        "# Reverse\n",
        "nums=[1,2,3]\n",
        "nums.reverse()\n",
        "print(nums)\n",
        "\n",
        "# Sorting\n",
        "arr = [5,6,4,6,7,3,7,23,234,45]\n",
        "arr.sort()\n",
        "print(arr)\n",
        "\n",
        "arr.sort(reverse=True)\n",
        "print(arr)\n",
        "\n",
        "arr = [\"bob\", \"alice\", \"jane\", \"doe\"]\n",
        "arr.sort()\n",
        "print(arr)\n",
        "\n",
        "# Custom sorting (sorting by length)\n",
        "arr = [\"bob\", \"alice\", \"jane\", \"doe\"]\n",
        "arr.sort(key=lambda x: len(x))\n",
        "print(arr)\n",
        "\n",
        "# list comprehension \n",
        "arr = [i for i in range(5)]\n",
        "print(arr)\n",
        "arr = [i+i for i in range(5)]\n",
        "print(arr)\n",
        "\n",
        "# 2-D lists \n",
        "arr = [[0]*4 for i in range(4)]   # we create 4 unique rows here\n",
        "print(arr)\n",
        "\n",
        "# This won't work as you expect it to\n",
        "arr = [[0]*4]*4  # technically works but, if we modify 1 row it modify's all row \n",
        "print(arr)"
      ],
      "metadata": {
        "colab": {
          "base_uri": "https://localhost:8080/"
        },
        "id": "QUmSvkriBPsj",
        "outputId": "1d4e7b2e-de68-41cb-ad26-f23492e6ac58"
      },
      "execution_count": null,
      "outputs": [
        {
          "output_type": "stream",
          "name": "stdout",
          "text": [
            "[1, 2, 3]\n",
            "[1, 2, 3, 4, 5]\n",
            "[1, 2, 3, 4]\n",
            "[1, 7, 2, 3, 4]\n",
            "[0, 7, 2, 3, 4]\n",
            "[1, 1, 1, 1, 1]\n",
            "5\n",
            "3\n",
            "2\n",
            "[2, 3]\n",
            "[1, 2, 3, 4]\n",
            "[1, 2, 3, 4]\n",
            "1 2 3\n",
            "1 2 3 \n",
            "\n",
            "1 2 3 \n",
            "\n",
            "0 1\n",
            "1 2\n",
            "2 3\n",
            "\n",
            "\n",
            "1 3\n",
            "2 5\n",
            "3 6\n",
            "\n",
            "\n",
            "[3, 2, 1]\n",
            "[3, 4, 5, 6, 6, 7, 7, 23, 45, 234]\n",
            "[234, 45, 23, 7, 7, 6, 6, 5, 4, 3]\n",
            "['alice', 'bob', 'doe', 'jane']\n",
            "['bob', 'doe', 'jane', 'alice']\n",
            "[0, 1, 2, 3, 4]\n",
            "[0, 2, 4, 6, 8]\n",
            "[[0, 0, 0, 0], [0, 0, 0, 0], [0, 0, 0, 0], [0, 0, 0, 0]]\n",
            "[[0, 0, 0, 0], [0, 0, 0, 0], [0, 0, 0, 0], [0, 0, 0, 0]]\n"
          ]
        }
      ]
    },
    {
      "cell_type": "markdown",
      "source": [
        "### ***STRING***"
      ],
      "metadata": {
        "id": "qy8WuV-zDTNX"
      }
    },
    {
      "cell_type": "code",
      "source": [
        "# Strings are similar to arrays\n",
        "s = 'abc' \n",
        "print(s[0:2])\n",
        "\n",
        "# But the Strings are immutable, this wont work\n",
        "s[0] = 'A'\n",
        "\n",
        "# This creates a new string\n",
        "s +='def'\n",
        "print(s)\n",
        "\n",
        "# Valid numeric strings can be converted \n",
        "print(int('123')+int('123'))\n",
        "\n",
        "# And numbers can be converted to string\n",
        "print(str(123)+str(123)) # it concatinates\n",
        "\n",
        "# In rare cases you may need the ASCII value of a char\n",
        "print(ord('a'))\n",
        "print(ord('b'))\n",
        "\n",
        "# Combine a list of strings (with an empty string delimitor)\n",
        "strings = ['ab','cd','ef']\n",
        "print(''.join(strings))"
      ],
      "metadata": {
        "colab": {
          "base_uri": "https://localhost:8080/"
        },
        "id": "KvjOK1JYDRO8",
        "outputId": "972f2461-6ede-4d38-b8a3-c2604c7ea94c"
      },
      "execution_count": null,
      "outputs": [
        {
          "output_type": "stream",
          "name": "stdout",
          "text": [
            "ab\n",
            "abcdef\n",
            "246\n",
            "123123\n",
            "97\n",
            "98\n",
            "abcdef\n"
          ]
        }
      ]
    },
    {
      "cell_type": "markdown",
      "source": [
        "### ***QUEUES***"
      ],
      "metadata": {
        "id": "_4UyX6ZVFoge"
      }
    },
    {
      "cell_type": "code",
      "source": [
        "# Queues (double ended queue)\n",
        "from collections import deque\n",
        "\n",
        "queue = deque()\n",
        "queue.append(1)\n",
        "queue.append(2)\n",
        "print(queue)\n",
        "\n",
        "\n",
        "queue.popleft()\n",
        "\n",
        "\n",
        "queue.appendleft(1)\n",
        "print(queue)\n",
        "\n",
        "\n",
        "queue.pop()\n",
        "print(queue)\n",
        "\n",
        "\n",
        "#  all the operations can be done in constant time O(1)"
      ],
      "metadata": {
        "colab": {
          "base_uri": "https://localhost:8080/"
        },
        "id": "4VWh8t9hFsKN",
        "outputId": "0df162db-79c3-461d-aa57-0ffdc0d09ae9"
      },
      "execution_count": null,
      "outputs": [
        {
          "output_type": "stream",
          "name": "stdout",
          "text": [
            "deque([1, 2])\n",
            "deque([1, 2])\n",
            "deque([1])\n"
          ]
        }
      ]
    },
    {
      "cell_type": "markdown",
      "source": [
        "### ***HASHSET***"
      ],
      "metadata": {
        "id": "ouSc0_OFGrLg"
      }
    },
    {
      "cell_type": "code",
      "source": [
        "# HashSet\n",
        "mySet = set()\n",
        "\n",
        "mySet.add(1)\n",
        "mySet.add(2)\n",
        "print(mySet)\n",
        "\n",
        "print(len(mySet))\n",
        "\n",
        "\n",
        "print(1 in mySet)\n",
        "\n",
        "print(2 in mySet)\n",
        "\n",
        "print(3 in mySet)\n",
        "\n",
        "\n",
        "mySet.remove(2)\n",
        "print(2 in mySet)\n",
        "\n",
        "\n",
        "# list to set\n",
        "print(set([1, 2, 3]))\n",
        "\n",
        "\n",
        "# Set comprehension\n",
        "mySet = { i for i in range(5) }\n",
        "print(mySet)\n"
      ],
      "metadata": {
        "colab": {
          "base_uri": "https://localhost:8080/"
        },
        "id": "6h8EOnnCGqyR",
        "outputId": "7ba0abed-c300-4d2d-9f09-e2ef7aa2ff3d"
      },
      "execution_count": null,
      "outputs": [
        {
          "output_type": "stream",
          "name": "stdout",
          "text": [
            "{1, 2}\n",
            "2\n",
            "True\n",
            "True\n",
            "False\n",
            "False\n",
            "{1, 2, 3}\n",
            "{0, 1, 2, 3, 4}\n"
          ]
        }
      ]
    },
    {
      "cell_type": "markdown",
      "source": [
        "### ***HASHMAPS***"
      ],
      "metadata": {
        "id": "M4Dh8X86HrVc"
      }
    },
    {
      "cell_type": "code",
      "source": [
        "# HashMap (aka dict)\n",
        "myMap = {}\n",
        "myMap[\"alice\"] = 88\n",
        "myMap[\"bob\"] = 77\n",
        "print(myMap)\n",
        "\n",
        "\n",
        "print(len(myMap))\n",
        "\n",
        "\n",
        "myMap[\"alice\"] = 80\n",
        "print(myMap[\"alice\"])\n",
        "\n",
        "\n",
        "print(\"alice\" in myMap)\n",
        "\n",
        "\n",
        "myMap.pop(\"alice\")\n",
        "print(\"alice\" in myMap)\n",
        "\n",
        "\n",
        "myMap = { \"alice\": 90, \"bob\": 70 }\n",
        "print(myMap)\n",
        "\n",
        "\n",
        "# Dict comprehension\n",
        "myMap = { i: 2*i for i in range(3) }\n",
        "print(myMap)\n",
        "\n",
        "\n",
        "# Looping through maps\n",
        "myMap = { \"alice\": 90, \"bob\": 70 }\n",
        "for key in myMap:\n",
        "    print(key, myMap[key])\n",
        "\n",
        "\n",
        "\n",
        "for val in myMap.values():\n",
        "    print(val)\n",
        "\n",
        "for key, val in myMap.items():\n",
        "    print(key, val)\n"
      ],
      "metadata": {
        "colab": {
          "base_uri": "https://localhost:8080/"
        },
        "id": "iDae9tPPHzfD",
        "outputId": "8b7f1be7-e1b3-43f1-c18c-e4bfed55f226"
      },
      "execution_count": null,
      "outputs": [
        {
          "output_type": "stream",
          "name": "stdout",
          "text": [
            "{'alice': 88, 'bob': 77}\n",
            "2\n",
            "80\n",
            "True\n",
            "False\n",
            "{'alice': 90, 'bob': 70}\n",
            "{0: 0, 1: 2, 2: 4}\n",
            "alice 90\n",
            "bob 70\n",
            "90\n",
            "70\n",
            "alice 90\n",
            "bob 70\n"
          ]
        }
      ]
    },
    {
      "cell_type": "markdown",
      "source": [
        "### ***TUPLE***"
      ],
      "metadata": {
        "id": "pP4rpHsvJIkB"
      }
    },
    {
      "cell_type": "code",
      "source": [
        "# Tuples are like arrays but immutable\n",
        "tup = (1, 2, 3)\n",
        "print(tup)\n",
        "\n",
        "\n",
        "print(tup[0])\n",
        "\n",
        "\n",
        "print(tup[-1])\n",
        "\n",
        "\n",
        "# Can't modify, this won't work\n",
        "tup[0] = 0\n",
        "\n",
        "# Can be used as key for hash map/set\n",
        "myMap = { (1,2): 3 }\n",
        "print(myMap[(1,2)])\n",
        "\n",
        "\n",
        "mySet = set()\n",
        "mySet.add((1, 2))\n",
        "print((1, 2) in mySet)\n",
        "\n",
        "\n",
        "# Lists can't be keys\n",
        "myMap[[3, 4]] = 5"
      ],
      "metadata": {
        "colab": {
          "base_uri": "https://localhost:8080/"
        },
        "id": "w7gFaI_DJMxW",
        "outputId": "ef354490-2344-4ec7-a52e-c1bafa67f9c5"
      },
      "execution_count": null,
      "outputs": [
        {
          "output_type": "stream",
          "name": "stdout",
          "text": [
            "(1, 2, 3)\n",
            "1\n",
            "3\n",
            "3\n",
            "True\n"
          ]
        }
      ]
    },
    {
      "cell_type": "markdown",
      "source": [
        "### ***HEAPS***"
      ],
      "metadata": {
        "id": "Q9CmBFLbJczL"
      }
    },
    {
      "cell_type": "code",
      "source": [
        "import heapq\n",
        "\n",
        "# under the hood are arrays\n",
        "minHeap = []\n",
        "heapq.heappush(minHeap, 3)\n",
        "heapq.heappush(minHeap, 2)\n",
        "heapq.heappush(minHeap, 4)\n",
        "\n",
        "# Min is always at index 0\n",
        "print(minHeap[0])\n",
        "\n",
        "\n",
        "while len(minHeap):\n",
        "    print(heapq.heappop(minHeap))\n",
        "\n",
        "\n",
        "# No max heaps by default, work around is\n",
        "# to use min heap and multiply by -1 when push & pop.\n",
        "maxHeap = []\n",
        "heapq.heappush(maxHeap, -3)\n",
        "heapq.heappush(maxHeap, -2)\n",
        "heapq.heappush(maxHeap, -4)\n",
        "\n",
        "# Max is always at index 0\n",
        "print(-1 * maxHeap[0])\n",
        "\n",
        "\n",
        "while len(maxHeap):\n",
        "    print(-1 * heapq.heappop(maxHeap))\n",
        "\n",
        "\n",
        "# Build heap from initial values\n",
        "arr = [2, 1, 8, 4, 5]\n",
        "heapq.heapify(arr)\n",
        "while arr:\n",
        "    print(heapq.heappop(arr))\n"
      ],
      "metadata": {
        "colab": {
          "base_uri": "https://localhost:8080/"
        },
        "id": "HcWoqFB1Jb7j",
        "outputId": "d31db027-9cef-487c-cf50-bbb437780903"
      },
      "execution_count": null,
      "outputs": [
        {
          "output_type": "stream",
          "name": "stdout",
          "text": [
            "2\n",
            "2\n",
            "3\n",
            "4\n",
            "4\n",
            "4\n",
            "3\n",
            "2\n",
            "1\n",
            "2\n",
            "4\n",
            "5\n",
            "8\n"
          ]
        }
      ]
    },
    {
      "cell_type": "markdown",
      "source": [
        "### ***FUNCTIONS***"
      ],
      "metadata": {
        "id": "_xJLc7pcJswK"
      }
    },
    {
      "cell_type": "code",
      "source": [
        "def myFunc(n, m):\n",
        "    return n * m\n",
        "\n",
        "print(myFunc(3, 4))\n",
        "\n",
        "\n",
        "# Nested functions have access to outer variables\n",
        "def outer(a, b):\n",
        "    c = \"c\"\n",
        "\n",
        "    def inner():\n",
        "        return a + b + c\n",
        "    return inner()\n",
        "\n",
        "print(outer(\"a\", \"b\"))\n",
        "\n",
        "\n",
        "# Can modify objects but not reassign\n",
        "# unless using nonlocal keyword\n",
        "def double(arr, val):\n",
        "    def helper():\n",
        "        # Modifying array works\n",
        "        for i, n in enumerate(arr):\n",
        "            arr[i] *= 2\n",
        "        \n",
        "        # will only modify val in the helper scope\n",
        "        # val *= 2\n",
        "\n",
        "        # this will modify val outside helper scope\n",
        "        nonlocal val\n",
        "        val *= 2\n",
        "    helper()\n",
        "    print(arr, val)\n",
        "\n",
        "nums = [1, 2]\n",
        "val = 3\n",
        "double(nums, val)\n"
      ],
      "metadata": {
        "colab": {
          "base_uri": "https://localhost:8080/"
        },
        "id": "E0OC3OSBJwFV",
        "outputId": "ed55484e-eb3c-4566-dde1-cf50b207d5be"
      },
      "execution_count": null,
      "outputs": [
        {
          "output_type": "stream",
          "name": "stdout",
          "text": [
            "12\n",
            "abc\n",
            "[2, 4] 6\n"
          ]
        }
      ]
    },
    {
      "cell_type": "markdown",
      "source": [
        "### ***CLASSES***"
      ],
      "metadata": {
        "id": "iDsyEsFeJ5DV"
      }
    },
    {
      "cell_type": "code",
      "source": [
        "class MyClass:\n",
        "    # Constructor\n",
        "    def __init__(self, nums):\n",
        "        # Create member variables\n",
        "        self.nums = nums\n",
        "        self.size = len(nums)\n",
        "    \n",
        "    # self key word required as param\n",
        "    def getLength(self):\n",
        "        return self.size\n",
        "\n",
        "    def getDoubleLength(self):\n",
        "        return 2 * self.getLength()\n",
        "\n",
        "myObj = MyClass([1, 2, 3])\n",
        "print(myObj.getLength())\n",
        "\n",
        "print(myObj.getDoubleLength())\n"
      ],
      "metadata": {
        "colab": {
          "base_uri": "https://localhost:8080/"
        },
        "id": "Qgtsu19WJ4PO",
        "outputId": "2505bcc1-9b71-443b-84a7-3e4a3942bdd4"
      },
      "execution_count": null,
      "outputs": [
        {
          "output_type": "stream",
          "name": "stdout",
          "text": [
            "3\n",
            "6\n"
          ]
        }
      ]
    }
  ]
}